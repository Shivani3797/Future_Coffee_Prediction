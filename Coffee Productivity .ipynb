{
 "cells": [
  {
   "cell_type": "code",
   "execution_count": 13,
   "id": "6b5cc4c2",
   "metadata": {},
   "outputs": [],
   "source": [
    "from prophet import Prophet"
   ]
  },
  {
   "cell_type": "code",
   "execution_count": 14,
   "id": "3cb15955",
   "metadata": {},
   "outputs": [],
   "source": [
    "import pandas as pd"
   ]
  },
  {
   "cell_type": "code",
   "execution_count": 15,
   "id": "ff3016c6",
   "metadata": {},
   "outputs": [],
   "source": [
    "from prophet.plot import add_changepoints_to_plot,plot_plotly,plot_components_plotly"
   ]
  },
  {
   "cell_type": "code",
   "execution_count": 33,
   "id": "4bc9ee98",
   "metadata": {},
   "outputs": [],
   "source": [
    "import matplotlib.pyplot as plt"
   ]
  },
  {
   "cell_type": "code",
   "execution_count": 16,
   "id": "d36ca7c6",
   "metadata": {},
   "outputs": [],
   "source": [
    "# Read the data from a CSV file\n",
    "df = pd.read_csv(r'C:\\Users\\ADMIN\\Desktop\\Coffee_Productivity.csv')"
   ]
  },
  {
   "cell_type": "code",
   "execution_count": 17,
   "id": "68be0982",
   "metadata": {},
   "outputs": [
    {
     "data": {
      "text/html": [
       "<div>\n",
       "<style scoped>\n",
       "    .dataframe tbody tr th:only-of-type {\n",
       "        vertical-align: middle;\n",
       "    }\n",
       "\n",
       "    .dataframe tbody tr th {\n",
       "        vertical-align: top;\n",
       "    }\n",
       "\n",
       "    .dataframe thead th {\n",
       "        text-align: right;\n",
       "    }\n",
       "</style>\n",
       "<table border=\"1\" class=\"dataframe\">\n",
       "  <thead>\n",
       "    <tr style=\"text-align: right;\">\n",
       "      <th></th>\n",
       "      <th>ds</th>\n",
       "      <th>y</th>\n",
       "    </tr>\n",
       "  </thead>\n",
       "  <tbody>\n",
       "    <tr>\n",
       "      <th>0</th>\n",
       "      <td>01-10-1985</td>\n",
       "      <td>667</td>\n",
       "    </tr>\n",
       "    <tr>\n",
       "      <th>1</th>\n",
       "      <td>01-10-1986</td>\n",
       "      <td>820</td>\n",
       "    </tr>\n",
       "    <tr>\n",
       "      <th>2</th>\n",
       "      <td>01-10-1987</td>\n",
       "      <td>595</td>\n",
       "    </tr>\n",
       "    <tr>\n",
       "      <th>3</th>\n",
       "      <td>01-10-1988</td>\n",
       "      <td>874</td>\n",
       "    </tr>\n",
       "    <tr>\n",
       "      <th>4</th>\n",
       "      <td>01-10-1989</td>\n",
       "      <td>577</td>\n",
       "    </tr>\n",
       "  </tbody>\n",
       "</table>\n",
       "</div>"
      ],
      "text/plain": [
       "           ds    y\n",
       "0  01-10-1985  667\n",
       "1  01-10-1986  820\n",
       "2  01-10-1987  595\n",
       "3  01-10-1988  874\n",
       "4  01-10-1989  577"
      ]
     },
     "execution_count": 17,
     "metadata": {},
     "output_type": "execute_result"
    }
   ],
   "source": [
    "df.head()"
   ]
  },
  {
   "cell_type": "code",
   "execution_count": 18,
   "id": "2911f884",
   "metadata": {},
   "outputs": [
    {
     "data": {
      "text/html": [
       "<div>\n",
       "<style scoped>\n",
       "    .dataframe tbody tr th:only-of-type {\n",
       "        vertical-align: middle;\n",
       "    }\n",
       "\n",
       "    .dataframe tbody tr th {\n",
       "        vertical-align: top;\n",
       "    }\n",
       "\n",
       "    .dataframe thead th {\n",
       "        text-align: right;\n",
       "    }\n",
       "</style>\n",
       "<table border=\"1\" class=\"dataframe\">\n",
       "  <thead>\n",
       "    <tr style=\"text-align: right;\">\n",
       "      <th></th>\n",
       "      <th>ds</th>\n",
       "      <th>y</th>\n",
       "    </tr>\n",
       "  </thead>\n",
       "  <tbody>\n",
       "    <tr>\n",
       "      <th>32</th>\n",
       "      <td>01-10-2017</td>\n",
       "      <td>478</td>\n",
       "    </tr>\n",
       "    <tr>\n",
       "      <th>33</th>\n",
       "      <td>01-10-2018</td>\n",
       "      <td>470</td>\n",
       "    </tr>\n",
       "    <tr>\n",
       "      <th>34</th>\n",
       "      <td>01-10-2019</td>\n",
       "      <td>427</td>\n",
       "    </tr>\n",
       "    <tr>\n",
       "      <th>35</th>\n",
       "      <td>01-10-2020</td>\n",
       "      <td>478</td>\n",
       "    </tr>\n",
       "    <tr>\n",
       "      <th>36</th>\n",
       "      <td>01-10-2021</td>\n",
       "      <td>448</td>\n",
       "    </tr>\n",
       "  </tbody>\n",
       "</table>\n",
       "</div>"
      ],
      "text/plain": [
       "            ds    y\n",
       "32  01-10-2017  478\n",
       "33  01-10-2018  470\n",
       "34  01-10-2019  427\n",
       "35  01-10-2020  478\n",
       "36  01-10-2021  448"
      ]
     },
     "execution_count": 18,
     "metadata": {},
     "output_type": "execute_result"
    }
   ],
   "source": [
    "df.tail()"
   ]
  },
  {
   "cell_type": "code",
   "execution_count": 19,
   "id": "547a62a2",
   "metadata": {},
   "outputs": [],
   "source": [
    "df['ds']=pd.to_datetime(df['ds'])"
   ]
  },
  {
   "cell_type": "code",
   "execution_count": 20,
   "id": "18fce8eb",
   "metadata": {},
   "outputs": [
    {
     "data": {
      "text/plain": [
       "<AxesSubplot:xlabel='ds'>"
      ]
     },
     "execution_count": 20,
     "metadata": {},
     "output_type": "execute_result"
    },
    {
     "data": {
      "image/png": "[encoded data removed]",
      "text/plain": [
       "<Figure size 1296x432 with 1 Axes>"
      ]
     },
     "metadata": {
      "needs_background": "light"
     },
     "output_type": "display_data"
    }
   ],
   "source": [
    "df.plot(x='ds',y='y',figsize=(18,6))"
   ]
  },
  {
   "cell_type": "code",
   "execution_count": 21,
   "id": "8c696a8b",
   "metadata": {},
   "outputs": [
    {
     "name": "stdout",
     "output_type": "stream",
     "text": [
      "Name: scipy\n",
      "Version: 1.8.1\n",
      "Summary: SciPy: Scientific Library for Python\n",
      "Home-page: https://www.scipy.org\n",
      "Author: \n",
      "Author-email: \n",
      "License: BSD\n",
      "Location: d:\\users\\admin\\anaconda3\\lib\\site-packages\n",
      "Requires: numpy\n",
      "Required-by: statsmodels, seaborn, scikit-learn, scikit-image, glue-vispy-viewers, glue-core\n",
      "Note: you may need to restart the kernel to use updated packages.\n"
     ]
    },
    {
     "name": "stderr",
     "output_type": "stream",
     "text": [
      "WARNING: Ignoring invalid distribution -tatsmodels (d:\\users\\admin\\anaconda3\\lib\\site-packages)\n"
     ]
    }
   ],
   "source": [
    "pip show scipy "
   ]
  },
  {
   "cell_type": "code",
   "execution_count": 22,
   "id": "4413d80a",
   "metadata": {},
   "outputs": [],
   "source": [
    " from scipy.signal._signaltools import _centered"
   ]
  },
  {
   "cell_type": "code",
   "execution_count": 23,
   "id": "fbe9ea02",
   "metadata": {},
   "outputs": [
    {
     "name": "stdout",
     "output_type": "stream",
     "text": [
      "Requirement already satisfied: statsmodels in d:\\users\\admin\\anaconda3\\lib\\site-packages (0.14.0)\n",
      "Requirement already satisfied: pandas>=1.0 in d:\\users\\admin\\anaconda3\\lib\\site-packages (from statsmodels) (1.2.3)\n",
      "Requirement already satisfied: scipy!=1.9.2,>=1.4 in d:\\users\\admin\\anaconda3\\lib\\site-packages (from statsmodels) (1.8.1)\n",
      "Requirement already satisfied: packaging>=21.3 in d:\\users\\admin\\anaconda3\\lib\\site-packages (from statsmodels) (23.1)\n",
      "Requirement already satisfied: patsy>=0.5.2 in d:\\users\\admin\\anaconda3\\lib\\site-packages (from statsmodels) (0.5.2)\n",
      "Requirement already satisfied: numpy>=1.18 in d:\\users\\admin\\anaconda3\\lib\\site-packages (from statsmodels) (1.23.5)\n",
      "Requirement already satisfied: python-dateutil>=2.7.3 in d:\\users\\admin\\anaconda3\\lib\\site-packages (from pandas>=1.0->statsmodels) (2.8.2)\n",
      "Requirement already satisfied: pytz>=2017.3 in d:\\users\\admin\\anaconda3\\lib\\site-packages (from pandas>=1.0->statsmodels) (2021.3)\n",
      "Requirement already satisfied: six in d:\\users\\admin\\anaconda3\\lib\\site-packages (from patsy>=0.5.2->statsmodels) (1.16.0)\n",
      "Note: you may need to restart the kernel to use updated packages.\n"
     ]
    },
    {
     "name": "stderr",
     "output_type": "stream",
     "text": [
      "WARNING: Ignoring invalid distribution -tatsmodels (d:\\users\\admin\\anaconda3\\lib\\site-packages)\n",
      "WARNING: Ignoring invalid distribution -tatsmodels (d:\\users\\admin\\anaconda3\\lib\\site-packages)\n",
      "WARNING: Ignoring invalid distribution -tatsmodels (d:\\users\\admin\\anaconda3\\lib\\site-packages)\n",
      "WARNING: Ignoring invalid distribution -tatsmodels (d:\\users\\admin\\anaconda3\\lib\\site-packages)\n",
      "WARNING: Ignoring invalid distribution -tatsmodels (d:\\users\\admin\\anaconda3\\lib\\site-packages)\n",
      "WARNING: Ignoring invalid distribution -tatsmodels (d:\\users\\admin\\anaconda3\\lib\\site-packages)\n",
      "WARNING: You are using pip version 22.0.4; however, version 23.1.2 is available.\n",
      "You should consider upgrading via the 'D:\\Users\\ADMIN\\anaconda3\\python.exe -m pip install --upgrade pip' command.\n"
     ]
    }
   ],
   "source": [
    " pip install statsmodels --upgrade"
   ]
  },
  {
   "cell_type": "code",
   "execution_count": 24,
   "id": "16132519",
   "metadata": {},
   "outputs": [],
   "source": [
    "from statsmodels.tsa.seasonal import seasonal_decompose"
   ]
  },
  {
   "cell_type": "code",
   "execution_count": 25,
   "id": "169b2c5b",
   "metadata": {},
   "outputs": [
    {
     "data": {
      "text/plain": [
       "<AxesSubplot:>"
      ]
     },
     "execution_count": 25,
     "metadata": {},
     "output_type": "execute_result"
    },
    {
     "data": {
      "image/png": "[encoded data removed]",
      "text/plain": [
       "<Figure size 432x288 with 1 Axes>"
      ]
     },
     "metadata": {
      "needs_background": "light"
     },
     "output_type": "display_data"
    }
   ],
   "source": [
    "result=seasonal_decompose(df['y'], model='additionable', period=1)\n",
    "result.seasonal.plot()"
   ]
  },
  {
   "cell_type": "code",
   "execution_count": 26,
   "id": "d57c88e8",
   "metadata": {},
   "outputs": [],
   "source": [
    "# Create a Prophet model\n",
    "model = Prophet()"
   ]
  },
  {
   "cell_type": "code",
   "execution_count": 28,
   "id": "33d609db",
   "metadata": {},
   "outputs": [
    {
     "data": {
      "text/plain": [
       "<prophet.forecaster.Prophet at 0x18eddb30370>"
      ]
     },
     "execution_count": 28,
     "metadata": {},
     "output_type": "execute_result"
    }
   ],
   "source": [
    "# Add custom seasonal component (if needed)\n",
    "model.add_seasonality(name='yearly', period=365.25, fourier_order=10)"
   ]
  },
  {
   "cell_type": "code",
   "execution_count": 29,
   "id": "e3293265",
   "metadata": {},
   "outputs": [
    {
     "name": "stderr",
     "output_type": "stream",
     "text": [
      "18:52:07 - cmdstanpy - INFO - Chain [1] start processing\n",
      "18:52:07 - cmdstanpy - INFO - Chain [1] done processing\n"
     ]
    },
    {
     "data": {
      "text/plain": [
       "<prophet.forecaster.Prophet at 0x18eddb30370>"
      ]
     },
     "execution_count": 29,
     "metadata": {},
     "output_type": "execute_result"
    }
   ],
   "source": [
    "# Fit the model to the data\n",
    "model.fit(df)"
   ]
  },
  {
   "cell_type": "code",
   "execution_count": 30,
   "id": "6fc66253",
   "metadata": {},
   "outputs": [],
   "source": [
    "# Specify the number of periods to forecast\n",
    "future = model.make_future_dataframe(periods=10, freq='Y')"
   ]
  },
  {
   "cell_type": "code",
   "execution_count": 31,
   "id": "1a874235",
   "metadata": {},
   "outputs": [],
   "source": [
    "# Make predictions\n",
    "forecast = model.predict(future)"
   ]
  },
  {
   "cell_type": "code",
   "execution_count": 34,
   "id": "13648335",
   "metadata": {},
   "outputs": [
    {
     "name": "stdout",
     "output_type": "stream",
     "text": [
      "1    1986-01-10\n",
      "2    1987-01-10\n",
      "3    1988-01-10\n",
      "4    1989-01-10\n",
      "6    1991-01-10\n",
      "7    1992-01-10\n",
      "8    1993-01-10\n",
      "9    1994-01-10\n",
      "10   1995-01-10\n",
      "11   1996-01-10\n",
      "12   1997-01-10\n",
      "13   1998-01-10\n",
      "15   2000-01-10\n",
      "16   2001-01-10\n",
      "17   2002-01-10\n",
      "18   2003-01-10\n",
      "19   2004-01-10\n",
      "20   2005-01-10\n",
      "21   2006-01-10\n",
      "22   2007-01-10\n",
      "24   2009-01-10\n",
      "25   2010-01-10\n",
      "26   2011-01-10\n",
      "27   2012-01-10\n",
      "28   2013-01-10\n",
      "Name: ds, dtype: datetime64[ns]\n"
     ]
    },
    {
     "data": {
      "image/png": "[encoded data removed]",
      "text/plain": [
       "<Figure size 720x432 with 1 Axes>"
      ]
     },
     "metadata": {},
     "output_type": "display_data"
    }
   ],
   "source": [
    "# Generate changepoint statistics\n",
    "changepoints = model.changepoints\n",
    "\n",
    "# Print the changepoints\n",
    "print(changepoints)\n",
    "\n",
    "# Plot the changepoints\n",
    "fig = model.plot(forecast)\n",
    "plt.xlabel('Year')\n",
    "plt.ylabel('Coffee_Productivity')\n",
    "\n",
    "# Add vertical lines at the changepoints\n",
    "for changepoint in changepoints:\n",
    "    plt.axvline(changepoint, linestyle='--', color='r')\n",
    "\n",
    "plt.show()"
   ]
  },
  {
   "cell_type": "code",
   "execution_count": 114,
   "id": "bcad1ea3",
   "metadata": {},
   "outputs": [
    {
     "name": "stdout",
     "output_type": "stream",
     "text": [
      "           ds         yhat   yhat_lower   yhat_upper\n",
      "0  1986-01-10   819.128594   719.585474   927.491516\n",
      "1  1987-01-10   802.163989   702.194050   897.644168\n",
      "2  1988-01-10   782.920953   676.107709   891.977539\n",
      "3  1989-01-10   795.051435   698.786083   894.996652\n",
      "4  1990-01-10   780.372018   678.963001   881.400808\n",
      "5  1991-01-10   763.407413   667.035530   864.796175\n",
      "6  1992-01-10   744.164377   639.830656   845.387831\n",
      "7  1993-01-10   756.294859   656.410275   858.436368\n",
      "8  1994-01-10   741.615442   639.650986   839.135545\n",
      "9  1995-01-10   724.650783   628.714535   831.242374\n",
      "10 1996-01-10   705.407693   601.810239   803.703585\n",
      "11 1997-01-10   717.538120   616.970451   810.909145\n",
      "12 1998-01-10   702.858552   609.512777   798.642472\n",
      "13 1999-01-10   685.891502   589.067359   787.731000\n",
      "14 2000-01-10   666.646021   561.137312   764.675507\n",
      "15 2001-01-10   678.766641   581.225698   776.972335\n",
      "16 2002-01-10   664.070091   561.858153   769.414188\n",
      "17 2003-01-10   647.084300   544.637223   747.926954\n",
      "18 2004-01-10   627.820023   528.198162   725.721568\n",
      "19 2005-01-10   639.928854   543.573376   746.495607\n",
      "20 2006-01-10   625.227810   517.375192   723.098029\n",
      "21 2007-01-10   608.241578   502.032352   710.841292\n",
      "22 2008-01-10   588.976915   499.365603   688.451309\n",
      "23 2009-01-10   601.085711   500.652590   698.121904\n",
      "24 2010-01-10   586.384667   490.737298   688.221253\n",
      "25 2011-01-10   569.398435   467.730924   676.393129\n",
      "26 2012-01-10   550.133771   456.616794   658.736862\n",
      "27 2013-01-10   562.242567   460.765434   664.604083\n",
      "28 2014-01-10   547.541523   445.951436   645.847680\n",
      "29 2015-01-10   530.555291   428.688341   635.310037\n",
      "30 2016-01-10   511.290628   414.284403   610.165408\n",
      "31 2017-01-10   523.399423   424.540791   625.411997\n",
      "32 2018-01-10   508.698379   405.897175   599.587483\n",
      "33 2019-01-10   491.712147   392.554807   600.647467\n",
      "34 2020-01-10   472.447484   363.510490   569.495014\n",
      "35 2021-01-10   484.556280   382.708377   588.014624\n",
      "36 2021-12-31 -1194.768800 -1292.235034 -1092.786554\n",
      "37 2022-12-31 -1263.959491 -1361.336022 -1163.598361\n",
      "38 2023-12-31 -1332.833282 -1421.554740 -1233.071247\n",
      "39 2024-12-31 -1164.196887 -1257.214035 -1066.478027\n",
      "40 2025-12-31 -1233.611944 -1327.313931 -1132.152958\n",
      "41 2026-12-31 -1302.802635 -1405.880721 -1199.434351\n",
      "42 2027-12-31 -1371.676425 -1477.917177 -1265.575030\n",
      "43 2028-12-31 -1203.040031 -1305.470515 -1100.943998\n",
      "44 2029-12-31 -1272.455088 -1374.248352 -1171.703270\n",
      "45 2030-12-31 -1341.645779 -1437.765702 -1241.049180\n"
     ]
    }
   ],
   "source": [
    "# Print the forecasted values\n",
    "print(forecast[['ds', 'yhat', 'yhat_lower', 'yhat_upper']])"
   ]
  },
  {
   "cell_type": "code",
   "execution_count": 116,
   "id": "277a52bc",
   "metadata": {},
   "outputs": [
    {
     "data": {
      "application/vnd.plotly.v1+json": {
       "config": {
        "plotlyServerURL": "https://plot.ly"
       },
       "data": [
        {
         "marker": {
          "color": "black",
          "size": 4
         },
         "mode": "markers",
         "name": "Actual",
         "type": "scatter",
         "x": [
          "1986-01-10T00:00:00",
          "1987-01-10T00:00:00",
          "1988-01-10T00:00:00",
          "1989-01-10T00:00:00",
          "1990-01-10T00:00:00",
          "1991-01-10T00:00:00",
          "1992-01-10T00:00:00",
          "1993-01-10T00:00:00",
          "1994-01-10T00:00:00",
          "1995-01-10T00:00:00",
          "1995-01-10T00:00:00",
          "1996-01-10T00:00:00",
          "1997-01-10T00:00:00",
          "1998-01-10T00:00:00",
          "1999-01-10T00:00:00",
          "2000-01-10T00:00:00",
          "2001-01-10T00:00:00",
          "2002-01-10T00:00:00",
          "2003-01-10T00:00:00",
          "2004-01-10T00:00:00",
          "2005-01-10T00:00:00",
          "2006-01-10T00:00:00",
          "2007-01-10T00:00:00",
          "2008-01-10T00:00:00",
          "2009-01-10T00:00:00",
          "2010-01-10T00:00:00",
          "2011-01-10T00:00:00",
          "2012-01-10T00:00:00",
          "2013-01-10T00:00:00",
          "2014-01-10T00:00:00",
          "2015-01-10T00:00:00",
          "2016-01-10T00:00:00",
          "2017-01-10T00:00:00",
          "2018-01-10T00:00:00",
          "2019-01-10T00:00:00",
          "2020-01-10T00:00:00",
          "2021-01-10T00:00:00"
         ],
         "y": [
          667,
          820,
          595,
          874,
          577,
          722,
          814,
          674,
          906,
          728,
          860,
          724,
          760,
          678,
          815,
          713,
          812,
          696,
          687,
          675,
          620,
          657,
          613,
          508,
          592,
          575,
          597,
          560,
          564,
          527,
          537,
          486,
          478,
          470,
          427,
          478,
          448
         ]
        },
        {
         "hoverinfo": "skip",
         "line": {
          "width": 0
         },
         "mode": "lines",
         "type": "scatter",
         "x": [
          "1986-01-10T00:00:00",
          "1987-01-10T00:00:00",
          "1988-01-10T00:00:00",
          "1989-01-10T00:00:00",
          "1990-01-10T00:00:00",
          "1991-01-10T00:00:00",
          "1992-01-10T00:00:00",
          "1993-01-10T00:00:00",
          "1994-01-10T00:00:00",
          "1995-01-10T00:00:00",
          "1996-01-10T00:00:00",
          "1997-01-10T00:00:00",
          "1998-01-10T00:00:00",
          "1999-01-10T00:00:00",
          "2000-01-10T00:00:00",
          "2001-01-10T00:00:00",
          "2002-01-10T00:00:00",
          "2003-01-10T00:00:00",
          "2004-01-10T00:00:00",
          "2005-01-10T00:00:00",
          "2006-01-10T00:00:00",
          "2007-01-10T00:00:00",
          "2008-01-10T00:00:00",
          "2009-01-10T00:00:00",
          "2010-01-10T00:00:00",
          "2011-01-10T00:00:00",
          "2012-01-10T00:00:00",
          "2013-01-10T00:00:00",
          "2014-01-10T00:00:00",
          "2015-01-10T00:00:00",
          "2016-01-10T00:00:00",
          "2017-01-10T00:00:00",
          "2018-01-10T00:00:00",
          "2019-01-10T00:00:00",
          "2020-01-10T00:00:00",
          "2021-01-10T00:00:00",
          "2021-12-31T00:00:00",
          "2022-12-31T00:00:00",
          "2023-12-31T00:00:00",
          "2024-12-31T00:00:00",
          "2025-12-31T00:00:00",
          "2026-12-31T00:00:00",
          "2027-12-31T00:00:00",
          "2028-12-31T00:00:00",
          "2029-12-31T00:00:00",
          "2030-12-31T00:00:00"
         ],
         "y": [
          719.5854736909799,
          702.1940498668343,
          676.1077085857432,
          698.7860827517623,
          678.9630009021159,
          667.0355301361765,
          639.8306562463106,
          656.4102752715532,
          639.6509859763361,
          628.714534769348,
          601.8102391383233,
          616.9704513031131,
          609.5127768899413,
          589.0673588676193,
          561.1373118645606,
          581.2256983347637,
          561.858152547641,
          544.6372225459486,
          528.1981615288805,
          543.57337551528,
          517.3751918149238,
          502.03235223000223,
          499.3656032017068,
          500.6525898067177,
          490.73729791898677,
          467.73092449581515,
          456.61679355824555,
          460.7654336918697,
          445.95143648506195,
          428.6883412358194,
          414.2844030959982,
          424.540790645048,
          405.8971748653074,
          392.5548066485925,
          363.510489674384,
          382.70837696629343,
          -1292.2350336851798,
          -1361.3360215901,
          -1421.5547397202433,
          -1257.2140350385243,
          -1327.3139308680145,
          -1405.8807206391623,
          -1477.9171772681284,
          -1305.470514521119,
          -1374.2483523529668,
          -1437.7657019233086
         ]
        },
        {
         "fill": "tonexty",
         "fillcolor": "rgba(0, 114, 178, 0.2)",
         "line": {
          "color": "#0072B2",
          "width": 2
         },
         "mode": "lines",
         "name": "Predicted",
         "type": "scatter",
         "x": [
          "1986-01-10T00:00:00",
          "1987-01-10T00:00:00",
          "1988-01-10T00:00:00",
          "1989-01-10T00:00:00",
          "1990-01-10T00:00:00",
          "1991-01-10T00:00:00",
          "1992-01-10T00:00:00",
          "1993-01-10T00:00:00",
          "1994-01-10T00:00:00",
          "1995-01-10T00:00:00",
          "1996-01-10T00:00:00",
          "1997-01-10T00:00:00",
          "1998-01-10T00:00:00",
          "1999-01-10T00:00:00",
          "2000-01-10T00:00:00",
          "2001-01-10T00:00:00",
          "2002-01-10T00:00:00",
          "2003-01-10T00:00:00",
          "2004-01-10T00:00:00",
          "2005-01-10T00:00:00",
          "2006-01-10T00:00:00",
          "2007-01-10T00:00:00",
          "2008-01-10T00:00:00",
          "2009-01-10T00:00:00",
          "2010-01-10T00:00:00",
          "2011-01-10T00:00:00",
          "2012-01-10T00:00:00",
          "2013-01-10T00:00:00",
          "2014-01-10T00:00:00",
          "2015-01-10T00:00:00",
          "2016-01-10T00:00:00",
          "2017-01-10T00:00:00",
          "2018-01-10T00:00:00",
          "2019-01-10T00:00:00",
          "2020-01-10T00:00:00",
          "2021-01-10T00:00:00",
          "2021-12-31T00:00:00",
          "2022-12-31T00:00:00",
          "2023-12-31T00:00:00",
          "2024-12-31T00:00:00",
          "2025-12-31T00:00:00",
          "2026-12-31T00:00:00",
          "2027-12-31T00:00:00",
          "2028-12-31T00:00:00",
          "2029-12-31T00:00:00",
          "2030-12-31T00:00:00"
         ],
         "y": [
          819.1285939380266,
          802.1639889243374,
          782.9209527774849,
          795.0514350325009,
          780.3720179386013,
          763.4074129333649,
          744.1643767937977,
          756.294859054751,
          741.6154419618424,
          724.6507832563343,
          705.4076933574589,
          717.5381201129084,
          702.8585515141276,
          685.8915019494596,
          666.6460212504733,
          678.766641118299,
          664.0700908663382,
          647.0843003047352,
          627.8200232749031,
          639.9288544942137,
          625.2278102952478,
          608.2415781880768,
          588.9769149378783,
          601.0857108337718,
          586.3846666274108,
          569.3984345151724,
          550.1337712571899,
          562.2425671335413,
          547.5415229104775,
          530.555290778885,
          511.2906275129592,
          523.3994233931272,
          508.69837917007976,
          491.71214703841343,
          472.44748377257196,
          484.55627965271634,
          -1194.7688003673752,
          -1263.9594913571145,
          -1332.8332815240865,
          -1164.196887127619,
          -1233.6119441074272,
          -1302.8026350974555,
          -1371.6764252646901,
          -1203.0400308680876,
          -1272.4550878484004,
          -1341.6457788372293
         ]
        },
        {
         "fill": "tonexty",
         "fillcolor": "rgba(0, 114, 178, 0.2)",
         "hoverinfo": "skip",
         "line": {
          "width": 0
         },
         "mode": "lines",
         "type": "scatter",
         "x": [
          "1986-01-10T00:00:00",
          "1987-01-10T00:00:00",
          "1988-01-10T00:00:00",
          "1989-01-10T00:00:00",
          "1990-01-10T00:00:00",
          "1991-01-10T00:00:00",
          "1992-01-10T00:00:00",
          "1993-01-10T00:00:00",
          "1994-01-10T00:00:00",
          "1995-01-10T00:00:00",
          "1996-01-10T00:00:00",
          "1997-01-10T00:00:00",
          "1998-01-10T00:00:00",
          "1999-01-10T00:00:00",
          "2000-01-10T00:00:00",
          "2001-01-10T00:00:00",
          "2002-01-10T00:00:00",
          "2003-01-10T00:00:00",
          "2004-01-10T00:00:00",
          "2005-01-10T00:00:00",
          "2006-01-10T00:00:00",
          "2007-01-10T00:00:00",
          "2008-01-10T00:00:00",
          "2009-01-10T00:00:00",
          "2010-01-10T00:00:00",
          "2011-01-10T00:00:00",
          "2012-01-10T00:00:00",
          "2013-01-10T00:00:00",
          "2014-01-10T00:00:00",
          "2015-01-10T00:00:00",
          "2016-01-10T00:00:00",
          "2017-01-10T00:00:00",
          "2018-01-10T00:00:00",
          "2019-01-10T00:00:00",
          "2020-01-10T00:00:00",
          "2021-01-10T00:00:00",
          "2021-12-31T00:00:00",
          "2022-12-31T00:00:00",
          "2023-12-31T00:00:00",
          "2024-12-31T00:00:00",
          "2025-12-31T00:00:00",
          "2026-12-31T00:00:00",
          "2027-12-31T00:00:00",
          "2028-12-31T00:00:00",
          "2029-12-31T00:00:00",
          "2030-12-31T00:00:00"
         ],
         "y": [
          927.491516219863,
          897.6441682390398,
          891.9775392893646,
          894.9966519847848,
          881.4008083846309,
          864.7961748109495,
          845.3878305305213,
          858.436368029309,
          839.135544723832,
          831.2423738023564,
          803.703585003403,
          810.9091450723467,
          798.6424717217519,
          787.7309997922316,
          764.6755071064266,
          776.9723346335871,
          769.4141877604136,
          747.9269543168004,
          725.7215676105991,
          746.4956072659035,
          723.0980291451108,
          710.8412924239366,
          688.4513090023435,
          698.1219035558222,
          688.2212529935201,
          676.3931294706246,
          658.7368620634143,
          664.6040834013486,
          645.8476799473106,
          635.3100368717027,
          610.1654078351347,
          625.4119967972887,
          599.5874828625352,
          600.6474673602856,
          569.4950140670212,
          588.0146244935291,
          -1092.7865543869887,
          -1163.598360509183,
          -1233.0712469457392,
          -1066.4780267903689,
          -1132.152958192881,
          -1199.4343510012243,
          -1265.5750299626202,
          -1100.9439983833106,
          -1171.7032703967436,
          -1241.0491803866328
         ]
        }
       ],
       "layout": {
        "height": 600,
        "showlegend": false,
        "template": {
         "data": {
          "bar": [
           {
            "error_x": {
             "color": "#2a3f5f"
            },
            "error_y": {
             "color": "#2a3f5f"
            },
            "marker": {
             "line": {
              "color": "#E5ECF6",
              "width": 0.5
             },
             "pattern": {
              "fillmode": "overlay",
              "size": 10,
              "solidity": 0.2
             }
            },
            "type": "bar"
           }
          ],
          "barpolar": [
           {
            "marker": {
             "line": {
              "color": "#E5ECF6",
              "width": 0.5
             },
             "pattern": {
              "fillmode": "overlay",
              "size": 10,
              "solidity": 0.2
             }
            },
            "type": "barpolar"
           }
          ],
          "carpet": [
           {
            "aaxis": {
             "endlinecolor": "#2a3f5f",
             "gridcolor": "white",
             "linecolor": "white",
             "minorgridcolor": "white",
             "startlinecolor": "#2a3f5f"
            },
            "baxis": {
             "endlinecolor": "#2a3f5f",
             "gridcolor": "white",
             "linecolor": "white",
             "minorgridcolor": "white",
             "startlinecolor": "#2a3f5f"
            },
            "type": "carpet"
           }
          ],
          "choropleth": [
           {
            "colorbar": {
             "outlinewidth": 0,
             "ticks": ""
            },
            "type": "choropleth"
           }
          ],
          "contour": [
           {
            "colorbar": {
             "outlinewidth": 0,
             "ticks": ""
            },
            "colorscale": [
             [
              0,
              "#0d0887"
             ],
             [
              0.1111111111111111,
              "#46039f"
             ],
             [
              0.2222222222222222,
              "#7201a8"
             ],
             [
              0.3333333333333333,
              "#9c179e"
             ],
             [
              0.4444444444444444,
              "#bd3786"
             ],
             [
              0.5555555555555556,
              "#d8576b"
             ],
             [
              0.6666666666666666,
              "#ed7953"
             ],
             [
              0.7777777777777778,
              "#fb9f3a"
             ],
             [
              0.8888888888888888,
              "#fdca26"
             ],
             [
              1,
              "#f0f921"
             ]
            ],
            "type": "contour"
           }
          ],
          "contourcarpet": [
           {
            "colorbar": {
             "outlinewidth": 0,
             "ticks": ""
            },
            "type": "contourcarpet"
           }
          ],
          "heatmap": [
           {
            "colorbar": {
             "outlinewidth": 0,
             "ticks": ""
            },
            "colorscale": [
             [
              0,
              "#0d0887"
             ],
             [
              0.1111111111111111,
              "#46039f"
             ],
             [
              0.2222222222222222,
              "#7201a8"
             ],
             [
              0.3333333333333333,
              "#9c179e"
             ],
             [
              0.4444444444444444,
              "#bd3786"
             ],
             [
              0.5555555555555556,
              "#d8576b"
             ],
             [
              0.6666666666666666,
              "#ed7953"
             ],
             [
              0.7777777777777778,
              "#fb9f3a"
             ],
             [
              0.8888888888888888,
              "#fdca26"
             ],
             [
              1,
              "#f0f921"
             ]
            ],
            "type": "heatmap"
           }
          ],
          "heatmapgl": [
           {
            "colorbar": {
             "outlinewidth": 0,
             "ticks": ""
            },
            "colorscale": [
             [
              0,
              "#0d0887"
             ],
             [
              0.1111111111111111,
              "#46039f"
             ],
             [
              0.2222222222222222,
              "#7201a8"
             ],
             [
              0.3333333333333333,
              "#9c179e"
             ],
             [
              0.4444444444444444,
              "#bd3786"
             ],
             [
              0.5555555555555556,
              "#d8576b"
             ],
             [
              0.6666666666666666,
              "#ed7953"
             ],
             [
              0.7777777777777778,
              "#fb9f3a"
             ],
             [
              0.8888888888888888,
              "#fdca26"
             ],
             [
              1,
              "#f0f921"
             ]
            ],
            "type": "heatmapgl"
           }
          ],
          "histogram": [
           {
            "marker": {
             "pattern": {
              "fillmode": "overlay",
              "size": 10,
              "solidity": 0.2
             }
            },
            "type": "histogram"
           }
          ],
          "histogram2d": [
           {
            "colorbar": {
             "outlinewidth": 0,
             "ticks": ""
            },
            "colorscale": [
             [
              0,
              "#0d0887"
             ],
             [
              0.1111111111111111,
              "#46039f"
             ],
             [
              0.2222222222222222,
              "#7201a8"
             ],
             [
              0.3333333333333333,
              "#9c179e"
             ],
             [
              0.4444444444444444,
              "#bd3786"
             ],
             [
              0.5555555555555556,
              "#d8576b"
             ],
             [
              0.6666666666666666,
              "#ed7953"
             ],
             [
              0.7777777777777778,
              "#fb9f3a"
             ],
             [
              0.8888888888888888,
              "#fdca26"
             ],
             [
              1,
              "#f0f921"
             ]
            ],
            "type": "histogram2d"
           }
          ],
          "histogram2dcontour": [
           {
            "colorbar": {
             "outlinewidth": 0,
             "ticks": ""
            },
            "colorscale": [
             [
              0,
              "#0d0887"
             ],
             [
              0.1111111111111111,
              "#46039f"
             ],
             [
              0.2222222222222222,
              "#7201a8"
             ],
             [
              0.3333333333333333,
              "#9c179e"
             ],
             [
              0.4444444444444444,
              "#bd3786"
             ],
             [
              0.5555555555555556,
              "#d8576b"
             ],
             [
              0.6666666666666666,
              "#ed7953"
             ],
             [
              0.7777777777777778,
              "#fb9f3a"
             ],
             [
              0.8888888888888888,
              "#fdca26"
             ],
             [
              1,
              "#f0f921"
             ]
            ],
            "type": "histogram2dcontour"
           }
          ],
          "mesh3d": [
           {
            "colorbar": {
             "outlinewidth": 0,
             "ticks": ""
            },
            "type": "mesh3d"
           }
          ],
          "parcoords": [
           {
            "line": {
             "colorbar": {
              "outlinewidth": 0,
              "ticks": ""
             }
            },
            "type": "parcoords"
           }
          ],
          "pie": [
           {
            "automargin": true,
            "type": "pie"
           }
          ],
          "scatter": [
           {
            "fillpattern": {
             "fillmode": "overlay",
             "size": 10,
             "solidity": 0.2
            },
            "type": "scatter"
           }
          ],
          "scatter3d": [
           {
            "line": {
             "colorbar": {
              "outlinewidth": 0,
              "ticks": ""
             }
            },
            "marker": {
             "colorbar": {
              "outlinewidth": 0,
              "ticks": ""
             }
            },
            "type": "scatter3d"
           }
          ],
          "scattercarpet": [
           {
            "marker": {
             "colorbar": {
              "outlinewidth": 0,
              "ticks": ""
             }
            },
            "type": "scattercarpet"
           }
          ],
          "scattergeo": [
           {
            "marker": {
             "colorbar": {
              "outlinewidth": 0,
              "ticks": ""
             }
            },
            "type": "scattergeo"
           }
          ],
          "scattergl": [
           {
            "marker": {
             "colorbar": {
              "outlinewidth": 0,
              "ticks": ""
             }
            },
            "type": "scattergl"
           }
          ],
          "scattermapbox": [
           {
            "marker": {
             "colorbar": {
              "outlinewidth": 0,
              "ticks": ""
             }
            },
            "type": "scattermapbox"
           }
          ],
          "scatterpolar": [
           {
            "marker": {
             "colorbar": {
              "outlinewidth": 0,
              "ticks": ""
             }
            },
            "type": "scatterpolar"
           }
          ],
          "scatterpolargl": [
           {
            "marker": {
             "colorbar": {
              "outlinewidth": 0,
              "ticks": ""
             }
            },
            "type": "scatterpolargl"
           }
          ],
          "scatterternary": [
           {
            "marker": {
             "colorbar": {
              "outlinewidth": 0,
              "ticks": ""
             }
            },
            "type": "scatterternary"
           }
          ],
          "surface": [
           {
            "colorbar": {
             "outlinewidth": 0,
             "ticks": ""
            },
            "colorscale": [
             [
              0,
              "#0d0887"
             ],
             [
              0.1111111111111111,
              "#46039f"
             ],
             [
              0.2222222222222222,
              "#7201a8"
             ],
             [
              0.3333333333333333,
              "#9c179e"
             ],
             [
              0.4444444444444444,
              "#bd3786"
             ],
             [
              0.5555555555555556,
              "#d8576b"
             ],
             [
              0.6666666666666666,
              "#ed7953"
             ],
             [
              0.7777777777777778,
              "#fb9f3a"
             ],
             [
              0.8888888888888888,
              "#fdca26"
             ],
             [
              1,
              "#f0f921"
             ]
            ],
            "type": "surface"
           }
          ],
          "table": [
           {
            "cells": {
             "fill": {
              "color": "#EBF0F8"
             },
             "line": {
              "color": "white"
             }
            },
            "header": {
             "fill": {
              "color": "#C8D4E3"
             },
             "line": {
              "color": "white"
             }
            },
            "type": "table"
           }
          ]
         },
         "layout": {
          "annotationdefaults": {
           "arrowcolor": "#2a3f5f",
           "arrowhead": 0,
           "arrowwidth": 1
          },
          "autotypenumbers": "strict",
          "coloraxis": {
           "colorbar": {
            "outlinewidth": 0,
            "ticks": ""
           }
          },
          "colorscale": {
           "diverging": [
            [
             0,
             "#8e0152"
            ],
            [
             0.1,
             "#c51b7d"
            ],
            [
             0.2,
             "#de77ae"
            ],
            [
             0.3,
             "#f1b6da"
            ],
            [
             0.4,
             "#fde0ef"
            ],
            [
             0.5,
             "#f7f7f7"
            ],
            [
             0.6,
             "#e6f5d0"
            ],
            [
             0.7,
             "#b8e186"
            ],
            [
             0.8,
             "#7fbc41"
            ],
            [
             0.9,
             "#4d9221"
            ],
            [
             1,
             "#276419"
            ]
           ],
           "sequential": [
            [
             0,
             "#0d0887"
            ],
            [
             0.1111111111111111,
             "#46039f"
            ],
            [
             0.2222222222222222,
             "#7201a8"
            ],
            [
             0.3333333333333333,
             "#9c179e"
            ],
            [
             0.4444444444444444,
             "#bd3786"
            ],
            [
             0.5555555555555556,
             "#d8576b"
            ],
            [
             0.6666666666666666,
             "#ed7953"
            ],
            [
             0.7777777777777778,
             "#fb9f3a"
            ],
            [
             0.8888888888888888,
             "#fdca26"
            ],
            [
             1,
             "#f0f921"
            ]
           ],
           "sequentialminus": [
            [
             0,
             "#0d0887"
            ],
            [
             0.1111111111111111,
             "#46039f"
            ],
            [
             0.2222222222222222,
             "#7201a8"
            ],
            [
             0.3333333333333333,
             "#9c179e"
            ],
            [
             0.4444444444444444,
             "#bd3786"
            ],
            [
             0.5555555555555556,
             "#d8576b"
            ],
            [
             0.6666666666666666,
             "#ed7953"
            ],
            [
             0.7777777777777778,
             "#fb9f3a"
            ],
            [
             0.8888888888888888,
             "#fdca26"
            ],
            [
             1,
             "#f0f921"
            ]
           ]
          },
          "colorway": [
           "#636efa",
           "#EF553B",
           "#00cc96",
           "#ab63fa",
           "#FFA15A",
           "#19d3f3",
           "#FF6692",
           "#B6E880",
           "#FF97FF",
           "#FECB52"
          ],
          "font": {
           "color": "#2a3f5f"
          },
          "geo": {
           "bgcolor": "white",
           "lakecolor": "white",
           "landcolor": "#E5ECF6",
           "showlakes": true,
           "showland": true,
           "subunitcolor": "white"
          },
          "hoverlabel": {
           "align": "left"
          },
          "hovermode": "closest",
          "mapbox": {
           "style": "light"
          },
          "paper_bgcolor": "white",
          "plot_bgcolor": "#E5ECF6",
          "polar": {
           "angularaxis": {
            "gridcolor": "white",
            "linecolor": "white",
            "ticks": ""
           },
           "bgcolor": "#E5ECF6",
           "radialaxis": {
            "gridcolor": "white",
            "linecolor": "white",
            "ticks": ""
           }
          },
          "scene": {
           "xaxis": {
            "backgroundcolor": "#E5ECF6",
            "gridcolor": "white",
            "gridwidth": 2,
            "linecolor": "white",
            "showbackground": true,
            "ticks": "",
            "zerolinecolor": "white"
           },
           "yaxis": {
            "backgroundcolor": "#E5ECF6",
            "gridcolor": "white",
            "gridwidth": 2,
            "linecolor": "white",
            "showbackground": true,
            "ticks": "",
            "zerolinecolor": "white"
           },
           "zaxis": {
            "backgroundcolor": "#E5ECF6",
            "gridcolor": "white",
            "gridwidth": 2,
            "linecolor": "white",
            "showbackground": true,
            "ticks": "",
            "zerolinecolor": "white"
           }
          },
          "shapedefaults": {
           "line": {
            "color": "#2a3f5f"
           }
          },
          "ternary": {
           "aaxis": {
            "gridcolor": "white",
            "linecolor": "white",
            "ticks": ""
           },
           "baxis": {
            "gridcolor": "white",
            "linecolor": "white",
            "ticks": ""
           },
           "bgcolor": "#E5ECF6",
           "caxis": {
            "gridcolor": "white",
            "linecolor": "white",
            "ticks": ""
           }
          },
          "title": {
           "x": 0.05
          },
          "xaxis": {
           "automargin": true,
           "gridcolor": "white",
           "linecolor": "white",
           "ticks": "",
           "title": {
            "standoff": 15
           },
           "zerolinecolor": "white",
           "zerolinewidth": 2
          },
          "yaxis": {
           "automargin": true,
           "gridcolor": "white",
           "linecolor": "white",
           "ticks": "",
           "title": {
            "standoff": 15
           },
           "zerolinecolor": "white",
           "zerolinewidth": 2
          }
         }
        },
        "width": 900,
        "xaxis": {
         "rangeselector": {
          "buttons": [
           {
            "count": 7,
            "label": "1w",
            "step": "day",
            "stepmode": "backward"
           },
           {
            "count": 1,
            "label": "1m",
            "step": "month",
            "stepmode": "backward"
           },
           {
            "count": 6,
            "label": "6m",
            "step": "month",
            "stepmode": "backward"
           },
           {
            "count": 1,
            "label": "1y",
            "step": "year",
            "stepmode": "backward"
           },
           {
            "step": "all"
           }
          ]
         },
         "rangeslider": {
          "visible": true
         },
         "title": {
          "text": "ds"
         },
         "type": "date"
        },
        "yaxis": {
         "title": {
          "text": "y"
         }
        }
       }
      },
      "text/html": [
       "<div>                            <div id=\"04798d43-da2a-416e-95e1-2cb5ad980b9f\" class=\"plotly-graph-div\" style=\"height:600px; width:900px;\"></div>            <script type=\"text/javascript\">                require([\"plotly\"], function(Plotly) {                    window.PLOTLYENV=window.PLOTLYENV || {};                                    if (document.getElementById(\"04798d43-da2a-416e-95e1-2cb5ad980b9f\")) {                    Plotly.newPlot(                        \"04798d43-da2a-416e-95e1-2cb5ad980b9f\",                        [{\"marker\":{\"color\":\"black\",\"size\":4},\"mode\":\"markers\",\"name\":\"Actual\",\"x\":[\"1986-01-10T00:00:00\",\"1987-01-10T00:00:00\",\"1988-01-10T00:00:00\",\"1989-01-10T00:00:00\",\"1990-01-10T00:00:00\",\"1991-01-10T00:00:00\",\"1992-01-10T00:00:00\",\"1993-01-10T00:00:00\",\"1994-01-10T00:00:00\",\"1995-01-10T00:00:00\",\"1995-01-10T00:00:00\",\"1996-01-10T00:00:00\",\"1997-01-10T00:00:00\",\"1998-01-10T00:00:00\",\"1999-01-10T00:00:00\",\"2000-01-10T00:00:00\",\"2001-01-10T00:00:00\",\"2002-01-10T00:00:00\",\"2003-01-10T00:00:00\",\"2004-01-10T00:00:00\",\"2005-01-10T00:00:00\",\"2006-01-10T00:00:00\",\"2007-01-10T00:00:00\",\"2008-01-10T00:00:00\",\"2009-01-10T00:00:00\",\"2010-01-10T00:00:00\",\"2011-01-10T00:00:00\",\"2012-01-10T00:00:00\",\"2013-01-10T00:00:00\",\"2014-01-10T00:00:00\",\"2015-01-10T00:00:00\",\"2016-01-10T00:00:00\",\"2017-01-10T00:00:00\",\"2018-01-10T00:00:00\",\"2019-01-10T00:00:00\",\"2020-01-10T00:00:00\",\"2021-01-10T00:00:00\"],\"y\":[667,820,595,874,577,722,814,674,906,728,860,724,760,678,815,713,812,696,687,675,620,657,613,508,592,575,597,560,564,527,537,486,478,470,427,478,448],\"type\":\"scatter\"},{\"hoverinfo\":\"skip\",\"line\":{\"width\":0},\"mode\":\"lines\",\"x\":[\"1986-01-10T00:00:00\",\"1987-01-10T00:00:00\",\"1988-01-10T00:00:00\",\"1989-01-10T00:00:00\",\"1990-01-10T00:00:00\",\"1991-01-10T00:00:00\",\"1992-01-10T00:00:00\",\"1993-01-10T00:00:00\",\"1994-01-10T00:00:00\",\"1995-01-10T00:00:00\",\"1996-01-10T00:00:00\",\"1997-01-10T00:00:00\",\"1998-01-10T00:00:00\",\"1999-01-10T00:00:00\",\"2000-01-10T00:00:00\",\"2001-01-10T00:00:00\",\"2002-01-10T00:00:00\",\"2003-01-10T00:00:00\",\"2004-01-10T00:00:00\",\"2005-01-10T00:00:00\",\"2006-01-10T00:00:00\",\"2007-01-10T00:00:00\",\"2008-01-10T00:00:00\",\"2009-01-10T00:00:00\",\"2010-01-10T00:00:00\",\"2011-01-10T00:00:00\",\"2012-01-10T00:00:00\",\"2013-01-10T00:00:00\",\"2014-01-10T00:00:00\",\"2015-01-10T00:00:00\",\"2016-01-10T00:00:00\",\"2017-01-10T00:00:00\",\"2018-01-10T00:00:00\",\"2019-01-10T00:00:00\",\"2020-01-10T00:00:00\",\"2021-01-10T00:00:00\",\"2021-12-31T00:00:00\",\"2022-12-31T00:00:00\",\"2023-12-31T00:00:00\",\"2024-12-31T00:00:00\",\"2025-12-31T00:00:00\",\"2026-12-31T00:00:00\",\"2027-12-31T00:00:00\",\"2028-12-31T00:00:00\",\"2029-12-31T00:00:00\",\"2030-12-31T00:00:00\"],\"y\":[719.5854736909799,702.1940498668343,676.1077085857432,698.7860827517623,678.9630009021159,667.0355301361765,639.8306562463106,656.4102752715532,639.6509859763361,628.714534769348,601.8102391383233,616.9704513031131,609.5127768899413,589.0673588676193,561.1373118645606,581.2256983347637,561.858152547641,544.6372225459486,528.1981615288805,543.57337551528,517.3751918149238,502.03235223000223,499.3656032017068,500.6525898067177,490.73729791898677,467.73092449581515,456.61679355824555,460.7654336918697,445.95143648506195,428.6883412358194,414.2844030959982,424.540790645048,405.8971748653074,392.5548066485925,363.510489674384,382.70837696629343,-1292.2350336851798,-1361.3360215901,-1421.5547397202433,-1257.2140350385243,-1327.3139308680145,-1405.8807206391623,-1477.9171772681284,-1305.470514521119,-1374.2483523529668,-1437.7657019233086],\"type\":\"scatter\"},{\"fill\":\"tonexty\",\"fillcolor\":\"rgba(0, 114, 178, 0.2)\",\"line\":{\"color\":\"#0072B2\",\"width\":2},\"mode\":\"lines\",\"name\":\"Predicted\",\"x\":[\"1986-01-10T00:00:00\",\"1987-01-10T00:00:00\",\"1988-01-10T00:00:00\",\"1989-01-10T00:00:00\",\"1990-01-10T00:00:00\",\"1991-01-10T00:00:00\",\"1992-01-10T00:00:00\",\"1993-01-10T00:00:00\",\"1994-01-10T00:00:00\",\"1995-01-10T00:00:00\",\"1996-01-10T00:00:00\",\"1997-01-10T00:00:00\",\"1998-01-10T00:00:00\",\"1999-01-10T00:00:00\",\"2000-01-10T00:00:00\",\"2001-01-10T00:00:00\",\"2002-01-10T00:00:00\",\"2003-01-10T00:00:00\",\"2004-01-10T00:00:00\",\"2005-01-10T00:00:00\",\"2006-01-10T00:00:00\",\"2007-01-10T00:00:00\",\"2008-01-10T00:00:00\",\"2009-01-10T00:00:00\",\"2010-01-10T00:00:00\",\"2011-01-10T00:00:00\",\"2012-01-10T00:00:00\",\"2013-01-10T00:00:00\",\"2014-01-10T00:00:00\",\"2015-01-10T00:00:00\",\"2016-01-10T00:00:00\",\"2017-01-10T00:00:00\",\"2018-01-10T00:00:00\",\"2019-01-10T00:00:00\",\"2020-01-10T00:00:00\",\"2021-01-10T00:00:00\",\"2021-12-31T00:00:00\",\"2022-12-31T00:00:00\",\"2023-12-31T00:00:00\",\"2024-12-31T00:00:00\",\"2025-12-31T00:00:00\",\"2026-12-31T00:00:00\",\"2027-12-31T00:00:00\",\"2028-12-31T00:00:00\",\"2029-12-31T00:00:00\",\"2030-12-31T00:00:00\"],\"y\":[819.1285939380266,802.1639889243374,782.9209527774849,795.0514350325009,780.3720179386013,763.4074129333649,744.1643767937977,756.294859054751,741.6154419618424,724.6507832563343,705.4076933574589,717.5381201129084,702.8585515141276,685.8915019494596,666.6460212504733,678.766641118299,664.0700908663382,647.0843003047352,627.8200232749031,639.9288544942137,625.2278102952478,608.2415781880768,588.9769149378783,601.0857108337718,586.3846666274108,569.3984345151724,550.1337712571899,562.2425671335413,547.5415229104775,530.555290778885,511.2906275129592,523.3994233931272,508.69837917007976,491.71214703841343,472.44748377257196,484.55627965271634,-1194.7688003673752,-1263.9594913571145,-1332.8332815240865,-1164.196887127619,-1233.6119441074272,-1302.8026350974555,-1371.6764252646901,-1203.0400308680876,-1272.4550878484004,-1341.6457788372293],\"type\":\"scatter\"},{\"fill\":\"tonexty\",\"fillcolor\":\"rgba(0, 114, 178, 0.2)\",\"hoverinfo\":\"skip\",\"line\":{\"width\":0},\"mode\":\"lines\",\"x\":[\"1986-01-10T00:00:00\",\"1987-01-10T00:00:00\",\"1988-01-10T00:00:00\",\"1989-01-10T00:00:00\",\"1990-01-10T00:00:00\",\"1991-01-10T00:00:00\",\"1992-01-10T00:00:00\",\"1993-01-10T00:00:00\",\"1994-01-10T00:00:00\",\"1995-01-10T00:00:00\",\"1996-01-10T00:00:00\",\"1997-01-10T00:00:00\",\"1998-01-10T00:00:00\",\"1999-01-10T00:00:00\",\"2000-01-10T00:00:00\",\"2001-01-10T00:00:00\",\"2002-01-10T00:00:00\",\"2003-01-10T00:00:00\",\"2004-01-10T00:00:00\",\"2005-01-10T00:00:00\",\"2006-01-10T00:00:00\",\"2007-01-10T00:00:00\",\"2008-01-10T00:00:00\",\"2009-01-10T00:00:00\",\"2010-01-10T00:00:00\",\"2011-01-10T00:00:00\",\"2012-01-10T00:00:00\",\"2013-01-10T00:00:00\",\"2014-01-10T00:00:00\",\"2015-01-10T00:00:00\",\"2016-01-10T00:00:00\",\"2017-01-10T00:00:00\",\"2018-01-10T00:00:00\",\"2019-01-10T00:00:00\",\"2020-01-10T00:00:00\",\"2021-01-10T00:00:00\",\"2021-12-31T00:00:00\",\"2022-12-31T00:00:00\",\"2023-12-31T00:00:00\",\"2024-12-31T00:00:00\",\"2025-12-31T00:00:00\",\"2026-12-31T00:00:00\",\"2027-12-31T00:00:00\",\"2028-12-31T00:00:00\",\"2029-12-31T00:00:00\",\"2030-12-31T00:00:00\"],\"y\":[927.491516219863,897.6441682390398,891.9775392893646,894.9966519847848,881.4008083846309,864.7961748109495,845.3878305305213,858.436368029309,839.135544723832,831.2423738023564,803.703585003403,810.9091450723467,798.6424717217519,787.7309997922316,764.6755071064266,776.9723346335871,769.4141877604136,747.9269543168004,725.7215676105991,746.4956072659035,723.0980291451108,710.8412924239366,688.4513090023435,698.1219035558222,688.2212529935201,676.3931294706246,658.7368620634143,664.6040834013486,645.8476799473106,635.3100368717027,610.1654078351347,625.4119967972887,599.5874828625352,600.6474673602856,569.4950140670212,588.0146244935291,-1092.7865543869887,-1163.598360509183,-1233.0712469457392,-1066.4780267903689,-1132.152958192881,-1199.4343510012243,-1265.5750299626202,-1100.9439983833106,-1171.7032703967436,-1241.0491803866328],\"type\":\"scatter\"}],                        {\"height\":600,\"showlegend\":false,\"width\":900,\"xaxis\":{\"rangeselector\":{\"buttons\":[{\"count\":7,\"label\":\"1w\",\"step\":\"day\",\"stepmode\":\"backward\"},{\"count\":1,\"label\":\"1m\",\"step\":\"month\",\"stepmode\":\"backward\"},{\"count\":6,\"label\":\"6m\",\"step\":\"month\",\"stepmode\":\"backward\"},{\"count\":1,\"label\":\"1y\",\"step\":\"year\",\"stepmode\":\"backward\"},{\"step\":\"all\"}]},\"rangeslider\":{\"visible\":true},\"title\":{\"text\":\"ds\"},\"type\":\"date\"},\"yaxis\":{\"title\":{\"text\":\"y\"}},\"template\":{\"data\":{\"histogram2dcontour\":[{\"type\":\"histogram2dcontour\",\"colorbar\":{\"outlinewidth\":0,\"ticks\":\"\"},\"colorscale\":[[0.0,\"#0d0887\"],[0.1111111111111111,\"#46039f\"],[0.2222222222222222,\"#7201a8\"],[0.3333333333333333,\"#9c179e\"],[0.4444444444444444,\"#bd3786\"],[0.5555555555555556,\"#d8576b\"],[0.6666666666666666,\"#ed7953\"],[0.7777777777777778,\"#fb9f3a\"],[0.8888888888888888,\"#fdca26\"],[1.0,\"#f0f921\"]]}],\"choropleth\":[{\"type\":\"choropleth\",\"colorbar\":{\"outlinewidth\":0,\"ticks\":\"\"}}],\"histogram2d\":[{\"type\":\"histogram2d\",\"colorbar\":{\"outlinewidth\":0,\"ticks\":\"\"},\"colorscale\":[[0.0,\"#0d0887\"],[0.1111111111111111,\"#46039f\"],[0.2222222222222222,\"#7201a8\"],[0.3333333333333333,\"#9c179e\"],[0.4444444444444444,\"#bd3786\"],[0.5555555555555556,\"#d8576b\"],[0.6666666666666666,\"#ed7953\"],[0.7777777777777778,\"#fb9f3a\"],[0.8888888888888888,\"#fdca26\"],[1.0,\"#f0f921\"]]}],\"heatmap\":[{\"type\":\"heatmap\",\"colorbar\":{\"outlinewidth\":0,\"ticks\":\"\"},\"colorscale\":[[0.0,\"#0d0887\"],[0.1111111111111111,\"#46039f\"],[0.2222222222222222,\"#7201a8\"],[0.3333333333333333,\"#9c179e\"],[0.4444444444444444,\"#bd3786\"],[0.5555555555555556,\"#d8576b\"],[0.6666666666666666,\"#ed7953\"],[0.7777777777777778,\"#fb9f3a\"],[0.8888888888888888,\"#fdca26\"],[1.0,\"#f0f921\"]]}],\"heatmapgl\":[{\"type\":\"heatmapgl\",\"colorbar\":{\"outlinewidth\":0,\"ticks\":\"\"},\"colorscale\":[[0.0,\"#0d0887\"],[0.1111111111111111,\"#46039f\"],[0.2222222222222222,\"#7201a8\"],[0.3333333333333333,\"#9c179e\"],[0.4444444444444444,\"#bd3786\"],[0.5555555555555556,\"#d8576b\"],[0.6666666666666666,\"#ed7953\"],[0.7777777777777778,\"#fb9f3a\"],[0.8888888888888888,\"#fdca26\"],[1.0,\"#f0f921\"]]}],\"contourcarpet\":[{\"type\":\"contourcarpet\",\"colorbar\":{\"outlinewidth\":0,\"ticks\":\"\"}}],\"contour\":[{\"type\":\"contour\",\"colorbar\":{\"outlinewidth\":0,\"ticks\":\"\"},\"colorscale\":[[0.0,\"#0d0887\"],[0.1111111111111111,\"#46039f\"],[0.2222222222222222,\"#7201a8\"],[0.3333333333333333,\"#9c179e\"],[0.4444444444444444,\"#bd3786\"],[0.5555555555555556,\"#d8576b\"],[0.6666666666666666,\"#ed7953\"],[0.7777777777777778,\"#fb9f3a\"],[0.8888888888888888,\"#fdca26\"],[1.0,\"#f0f921\"]]}],\"surface\":[{\"type\":\"surface\",\"colorbar\":{\"outlinewidth\":0,\"ticks\":\"\"},\"colorscale\":[[0.0,\"#0d0887\"],[0.1111111111111111,\"#46039f\"],[0.2222222222222222,\"#7201a8\"],[0.3333333333333333,\"#9c179e\"],[0.4444444444444444,\"#bd3786\"],[0.5555555555555556,\"#d8576b\"],[0.6666666666666666,\"#ed7953\"],[0.7777777777777778,\"#fb9f3a\"],[0.8888888888888888,\"#fdca26\"],[1.0,\"#f0f921\"]]}],\"mesh3d\":[{\"type\":\"mesh3d\",\"colorbar\":{\"outlinewidth\":0,\"ticks\":\"\"}}],\"scatter\":[{\"fillpattern\":{\"fillmode\":\"overlay\",\"size\":10,\"solidity\":0.2},\"type\":\"scatter\"}],\"parcoords\":[{\"type\":\"parcoords\",\"line\":{\"colorbar\":{\"outlinewidth\":0,\"ticks\":\"\"}}}],\"scatterpolargl\":[{\"type\":\"scatterpolargl\",\"marker\":{\"colorbar\":{\"outlinewidth\":0,\"ticks\":\"\"}}}],\"bar\":[{\"error_x\":{\"color\":\"#2a3f5f\"},\"error_y\":{\"color\":\"#2a3f5f\"},\"marker\":{\"line\":{\"color\":\"#E5ECF6\",\"width\":0.5},\"pattern\":{\"fillmode\":\"overlay\",\"size\":10,\"solidity\":0.2}},\"type\":\"bar\"}],\"scattergeo\":[{\"type\":\"scattergeo\",\"marker\":{\"colorbar\":{\"outlinewidth\":0,\"ticks\":\"\"}}}],\"scatterpolar\":[{\"type\":\"scatterpolar\",\"marker\":{\"colorbar\":{\"outlinewidth\":0,\"ticks\":\"\"}}}],\"histogram\":[{\"marker\":{\"pattern\":{\"fillmode\":\"overlay\",\"size\":10,\"solidity\":0.2}},\"type\":\"histogram\"}],\"scattergl\":[{\"type\":\"scattergl\",\"marker\":{\"colorbar\":{\"outlinewidth\":0,\"ticks\":\"\"}}}],\"scatter3d\":[{\"type\":\"scatter3d\",\"line\":{\"colorbar\":{\"outlinewidth\":0,\"ticks\":\"\"}},\"marker\":{\"colorbar\":{\"outlinewidth\":0,\"ticks\":\"\"}}}],\"scattermapbox\":[{\"type\":\"scattermapbox\",\"marker\":{\"colorbar\":{\"outlinewidth\":0,\"ticks\":\"\"}}}],\"scatterternary\":[{\"type\":\"scatterternary\",\"marker\":{\"colorbar\":{\"outlinewidth\":0,\"ticks\":\"\"}}}],\"scattercarpet\":[{\"type\":\"scattercarpet\",\"marker\":{\"colorbar\":{\"outlinewidth\":0,\"ticks\":\"\"}}}],\"carpet\":[{\"aaxis\":{\"endlinecolor\":\"#2a3f5f\",\"gridcolor\":\"white\",\"linecolor\":\"white\",\"minorgridcolor\":\"white\",\"startlinecolor\":\"#2a3f5f\"},\"baxis\":{\"endlinecolor\":\"#2a3f5f\",\"gridcolor\":\"white\",\"linecolor\":\"white\",\"minorgridcolor\":\"white\",\"startlinecolor\":\"#2a3f5f\"},\"type\":\"carpet\"}],\"table\":[{\"cells\":{\"fill\":{\"color\":\"#EBF0F8\"},\"line\":{\"color\":\"white\"}},\"header\":{\"fill\":{\"color\":\"#C8D4E3\"},\"line\":{\"color\":\"white\"}},\"type\":\"table\"}],\"barpolar\":[{\"marker\":{\"line\":{\"color\":\"#E5ECF6\",\"width\":0.5},\"pattern\":{\"fillmode\":\"overlay\",\"size\":10,\"solidity\":0.2}},\"type\":\"barpolar\"}],\"pie\":[{\"automargin\":true,\"type\":\"pie\"}]},\"layout\":{\"autotypenumbers\":\"strict\",\"colorway\":[\"#636efa\",\"#EF553B\",\"#00cc96\",\"#ab63fa\",\"#FFA15A\",\"#19d3f3\",\"#FF6692\",\"#B6E880\",\"#FF97FF\",\"#FECB52\"],\"font\":{\"color\":\"#2a3f5f\"},\"hovermode\":\"closest\",\"hoverlabel\":{\"align\":\"left\"},\"paper_bgcolor\":\"white\",\"plot_bgcolor\":\"#E5ECF6\",\"polar\":{\"bgcolor\":\"#E5ECF6\",\"angularaxis\":{\"gridcolor\":\"white\",\"linecolor\":\"white\",\"ticks\":\"\"},\"radialaxis\":{\"gridcolor\":\"white\",\"linecolor\":\"white\",\"ticks\":\"\"}},\"ternary\":{\"bgcolor\":\"#E5ECF6\",\"aaxis\":{\"gridcolor\":\"white\",\"linecolor\":\"white\",\"ticks\":\"\"},\"baxis\":{\"gridcolor\":\"white\",\"linecolor\":\"white\",\"ticks\":\"\"},\"caxis\":{\"gridcolor\":\"white\",\"linecolor\":\"white\",\"ticks\":\"\"}},\"coloraxis\":{\"colorbar\":{\"outlinewidth\":0,\"ticks\":\"\"}},\"colorscale\":{\"sequential\":[[0.0,\"#0d0887\"],[0.1111111111111111,\"#46039f\"],[0.2222222222222222,\"#7201a8\"],[0.3333333333333333,\"#9c179e\"],[0.4444444444444444,\"#bd3786\"],[0.5555555555555556,\"#d8576b\"],[0.6666666666666666,\"#ed7953\"],[0.7777777777777778,\"#fb9f3a\"],[0.8888888888888888,\"#fdca26\"],[1.0,\"#f0f921\"]],\"sequentialminus\":[[0.0,\"#0d0887\"],[0.1111111111111111,\"#46039f\"],[0.2222222222222222,\"#7201a8\"],[0.3333333333333333,\"#9c179e\"],[0.4444444444444444,\"#bd3786\"],[0.5555555555555556,\"#d8576b\"],[0.6666666666666666,\"#ed7953\"],[0.7777777777777778,\"#fb9f3a\"],[0.8888888888888888,\"#fdca26\"],[1.0,\"#f0f921\"]],\"diverging\":[[0,\"#8e0152\"],[0.1,\"#c51b7d\"],[0.2,\"#de77ae\"],[0.3,\"#f1b6da\"],[0.4,\"#fde0ef\"],[0.5,\"#f7f7f7\"],[0.6,\"#e6f5d0\"],[0.7,\"#b8e186\"],[0.8,\"#7fbc41\"],[0.9,\"#4d9221\"],[1,\"#276419\"]]},\"xaxis\":{\"gridcolor\":\"white\",\"linecolor\":\"white\",\"ticks\":\"\",\"title\":{\"standoff\":15},\"zerolinecolor\":\"white\",\"automargin\":true,\"zerolinewidth\":2},\"yaxis\":{\"gridcolor\":\"white\",\"linecolor\":\"white\",\"ticks\":\"\",\"title\":{\"standoff\":15},\"zerolinecolor\":\"white\",\"automargin\":true,\"zerolinewidth\":2},\"scene\":{\"xaxis\":{\"backgroundcolor\":\"#E5ECF6\",\"gridcolor\":\"white\",\"linecolor\":\"white\",\"showbackground\":true,\"ticks\":\"\",\"zerolinecolor\":\"white\",\"gridwidth\":2},\"yaxis\":{\"backgroundcolor\":\"#E5ECF6\",\"gridcolor\":\"white\",\"linecolor\":\"white\",\"showbackground\":true,\"ticks\":\"\",\"zerolinecolor\":\"white\",\"gridwidth\":2},\"zaxis\":{\"backgroundcolor\":\"#E5ECF6\",\"gridcolor\":\"white\",\"linecolor\":\"white\",\"showbackground\":true,\"ticks\":\"\",\"zerolinecolor\":\"white\",\"gridwidth\":2}},\"shapedefaults\":{\"line\":{\"color\":\"#2a3f5f\"}},\"annotationdefaults\":{\"arrowcolor\":\"#2a3f5f\",\"arrowhead\":0,\"arrowwidth\":1},\"geo\":{\"bgcolor\":\"white\",\"landcolor\":\"#E5ECF6\",\"subunitcolor\":\"white\",\"showland\":true,\"showlakes\":true,\"lakecolor\":\"white\"},\"title\":{\"x\":0.05},\"mapbox\":{\"style\":\"light\"}}}},                        {\"responsive\": true}                    ).then(function(){\n",
       "                            \n",
       "var gd = document.getElementById('04798d43-da2a-416e-95e1-2cb5ad980b9f');\n",
       "var x = new MutationObserver(function (mutations, observer) {{\n",
       "        var display = window.getComputedStyle(gd).display;\n",
       "        if (!display || display === 'none') {{\n",
       "            console.log([gd, 'removed!']);\n",
       "            Plotly.purge(gd);\n",
       "            observer.disconnect();\n",
       "        }}\n",
       "}});\n",
       "\n",
       "// Listen for the removal of the full notebook cells\n",
       "var notebookContainer = gd.closest('#notebook-container');\n",
       "if (notebookContainer) {{\n",
       "    x.observe(notebookContainer, {childList: true});\n",
       "}}\n",
       "\n",
       "// Listen for the clearing of the current output cell\n",
       "var outputEl = gd.closest('.output');\n",
       "if (outputEl) {{\n",
       "    x.observe(outputEl, {childList: true});\n",
       "}}\n",
       "\n",
       "                        })                };                });            </script>        </div>"
      ]
     },
     "metadata": {},
     "output_type": "display_data"
    }
   ],
   "source": [
    "plot_plotly(model,forecast)"
   ]
  },
  {
   "cell_type": "code",
   "execution_count": 117,
   "id": "284ba4b0",
   "metadata": {},
   "outputs": [
    {
     "data": {
      "image/png": "[encoded data removed]",
      "text/plain": [
       "<Figure size 648x432 with 2 Axes>"
      ]
     },
     "metadata": {},
     "output_type": "display_data"
    }
   ],
   "source": [
    "fig2 = model.plot_components(forecast)"
   ]
  },
  {
   "cell_type": "code",
   "execution_count": 118,
   "id": "eac73f81",
   "metadata": {},
   "outputs": [],
   "source": [
    "from statsmodels.tools.eval_measures import rmse"
   ]
  },
  {
   "cell_type": "code",
   "execution_count": 119,
   "id": "b285b564",
   "metadata": {},
   "outputs": [],
   "source": [
    "# Extract the actual and predicted values\n",
    "actual_values = df['y']\n",
    "predicted_values = forecast['yhat'].values[:len(actual_values)]"
   ]
  },
  {
   "cell_type": "code",
   "execution_count": 120,
   "id": "115e1127",
   "metadata": {},
   "outputs": [],
   "source": [
    "from sklearn.metrics import mean_absolute_error, mean_squared_error"
   ]
  },
  {
   "cell_type": "code",
   "execution_count": 121,
   "id": "24a3cb58",
   "metadata": {},
   "outputs": [],
   "source": [
    "# Calculate MAE, MSE, and MAPE\n",
    "mae = mean_absolute_error(actual_values, predicted_values)\n",
    "mse = mean_squared_error(actual_values, predicted_values)\n",
    "mape = (abs(actual_values - predicted_values) / actual_values).mean() * 100"
   ]
  },
  {
   "cell_type": "code",
   "execution_count": 122,
   "id": "c8d88a0a",
   "metadata": {},
   "outputs": [
    {
     "name": "stdout",
     "output_type": "stream",
     "text": [
      "MAE: 101.70203764367523\n",
      "MSE: 79586.19208510262\n",
      "MAPE: 18.434824667958754\n"
     ]
    }
   ],
   "source": [
    "print(\"MAE:\", mae)\n",
    "print(\"MSE:\", mse)\n",
    "print(\"MAPE:\", mape)"
   ]
  },
  {
   "cell_type": "code",
   "execution_count": 99,
   "id": "87439338",
   "metadata": {},
   "outputs": [
    {
     "data": {
      "text/plain": [
       "282.1102481036494"
      ]
     },
     "execution_count": 99,
     "metadata": {},
     "output_type": "execute_result"
    }
   ],
   "source": [
    "rmse(predicted_values,df['y'])"
   ]
  },
  {
   "cell_type": "code",
   "execution_count": null,
   "id": "175c1b48",
   "metadata": {},
   "outputs": [],
   "source": []
  }
 ],
 "metadata": {
  "kernelspec": {
   "display_name": "Python 3 (ipykernel)",
   "language": "python",
   "name": "python3"
  },
  "language_info": {
   "codemirror_mode": {
    "name": "ipython",
    "version": 3
   },
   "file_extension": ".py",
   "mimetype": "text/x-python",
   "name": "python",
   "nbconvert_exporter": "python",
   "pygments_lexer": "ipython3",
   "version": "3.11.7"
  }
 },
 "nbformat": 4,
 "nbformat_minor": 5
}
